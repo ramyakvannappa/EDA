{
 "cells": [
  {
   "cell_type": "markdown",
   "metadata": {},
   "source": [
    "# Building Machine Learning Pipelines: Data Analysis Phase\n",
    "\n",
    "#### In this project, I have created Machine Learning Pipelines considering all the life cycle of a Data Science Projects. \n",
    "\n",
    "#### Project Name: House Prices: Advanced Regression Techniques\n",
    "#### The main aim of this project is to predict the house price based on various features which we will discuss as we go ahead\n",
    "\n",
    "#### Dataset :\n",
    "https://www.kaggle.com/c/house-prices-advanced-regression-techniques/data\n",
    "\n",
    "## Lifecycle In A Data Science Projects\n",
    "1. Data Analysis\n",
    "2. Feature Engineering\n",
    "3. Feature Selection\n",
    "4. Model Building\n",
    "5. Model Deployment\n",
    "\n",
    "\n",
    "## 1.Data Analysis \n",
    "1. Missing Values: How many features have missing values?\n",
    "2. Numerical Variables : How many features are Numerical?\n",
    "3. Date Time Variables : Handled date-time features\n",
    "4. Plotting the relationship between yearsold and saleprice\n",
    "5. Discrete Variables : Extracting the discrete variables \n",
    "6. Finding the relationship between the discrete variables and saleprice\n",
    "7. Continuous Variables: Extracting the continuous variables \n",
    "8. Analyzing the distribution of the Numerical Variables\n",
    "9. Outliers : Figuring out the outliers\n",
    "10. Categorical Variables: Extracting the categorical variables \n",
    "11. Unique: Figuring out unique categories in each categorical feature\n",
    "\n",
    "\n",
    "## 2. Feature Engineering\n",
    "1. Missing values Categorical : Filling up the null values with 'Missing' name\n",
    "2. Missing values Numerical: Replaced the missing values by using median, Created a new feature to capture nan values\n",
    "3. DateTime : Taking the dates and subtracting it from SoldYear\n",
    "4. Skewed Data : Handled skewed data by using log transform\n",
    "5. Rare Categorical Features category: Grouping the categories in each features with < 0.01 into a new categor called Rare_var\n",
    "6. Feature Scaling: Standarise the values of the variables to the same range\n",
    "\n",
    "## 3. Feature Selection\n",
    "1. Used Lasso Regression model\n",
    "2. Used selectFromModel object from sklearn to select the features which coefficients are non-zero\n",
    "3. total features: 82 ,selected features: 21 , features with coefficients shrank to zero: 61"
   ]
  }
 ],
 "metadata": {
  "kernelspec": {
   "display_name": "Python 3",
   "language": "python",
   "name": "python3"
  },
  "language_info": {
   "codemirror_mode": {
    "name": "ipython",
    "version": 3
   },
   "file_extension": ".py",
   "mimetype": "text/x-python",
   "name": "python",
   "nbconvert_exporter": "python",
   "pygments_lexer": "ipython3",
   "version": "3.8.3"
  }
 },
 "nbformat": 4,
 "nbformat_minor": 4
}
